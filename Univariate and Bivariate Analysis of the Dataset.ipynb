{
 "cells": [
  {
   "cell_type": "markdown",
   "metadata": {
    "id": "e0hrTQp3PXQ3"
   },
   "source": [
    "### Overview Dataset\n",
    "\n",
    "\"Data Komponen Beton\".\n",
    "\n",
    "Data set ini berisikan beberapa kategori sebagai berikut\n",
    "* cement (kg)\n",
    "* slag (blast furnace slag, kg)\n",
    "* ash (fly ash, kg)\n",
    "* water (kg)\n",
    "* superplastic (superplasticizer, kg)\n",
    "* coarseagg (coarse aggregate, kg)\n",
    "* fineagg (fine aggregate, kg)\n",
    "* age (days, 1-365)\n",
    "* strength (Concrete compressive strength, MPa)"
   ]
  },
  {
   "cell_type": "markdown",
   "metadata": {
    "id": "eqIxGoxmPXQ6"
   },
   "source": [
    "# Exploratory Data Analysis (EDA)\n"
   ]
  },
  {
   "cell_type": "markdown",
   "metadata": {
    "id": "Kr6CK-lTPXQ7"
   },
   "source": [
    "<a id=\"1\"></a>\n",
    "\n",
    "# 1. Pengambilan Data:"
   ]
  },
  {
   "cell_type": "markdown",
   "metadata": {
    "id": "IWLxXzcGPXQ7"
   },
   "source": [
    "## 1.1 Import packages"
   ]
  },
  {
   "cell_type": "code",
   "execution_count": null,
   "metadata": {
    "id": "Z8YkXOkhPXQ8"
   },
   "outputs": [],
   "source": [
    "import numpy as np\n",
    "import pandas as pd\n",
    "import seaborn as sns\n",
    "import matplotlib.pyplot as plt\n",
    "%matplotlib inline\n",
    "import warnings\n",
    "warnings.filterwarnings(\"ignore\")\n",
    "from scipy.stats import ttest_ind, ttest_rel\n",
    "from scipy import stats"
   ]
  },
  {
   "cell_type": "markdown",
   "metadata": {
    "id": "lUnJrZXIPXQ8"
   },
   "source": [
    "## 1.2 Import data"
   ]
  },
  {
   "cell_type": "code",
   "execution_count": null,
   "metadata": {
    "id": "zaePfgA4PXQ8",
    "outputId": "8bdc38f9-48d9-40fe-c1bb-36d9b6befa77"
   },
   "outputs": [
    {
     "data": {
      "text/html": [
       "<div>\n",
       "<style scoped>\n",
       "    .dataframe tbody tr th:only-of-type {\n",
       "        vertical-align: middle;\n",
       "    }\n",
       "\n",
       "    .dataframe tbody tr th {\n",
       "        vertical-align: top;\n",
       "    }\n",
       "\n",
       "    .dataframe thead th {\n",
       "        text-align: right;\n",
       "    }\n",
       "</style>\n",
       "<table border=\"1\" class=\"dataframe\">\n",
       "  <thead>\n",
       "    <tr style=\"text-align: right;\">\n",
       "      <th></th>\n",
       "      <th>cement</th>\n",
       "      <th>slag</th>\n",
       "      <th>ash</th>\n",
       "      <th>water</th>\n",
       "      <th>superplastic</th>\n",
       "      <th>coarseagg</th>\n",
       "      <th>fineagg</th>\n",
       "      <th>age</th>\n",
       "      <th>strength</th>\n",
       "    </tr>\n",
       "  </thead>\n",
       "  <tbody>\n",
       "    <tr>\n",
       "      <th>0</th>\n",
       "      <td>141.3</td>\n",
       "      <td>212.0</td>\n",
       "      <td>0.0</td>\n",
       "      <td>203.5</td>\n",
       "      <td>0.0</td>\n",
       "      <td>971.8</td>\n",
       "      <td>748.5</td>\n",
       "      <td>28</td>\n",
       "      <td>29.89</td>\n",
       "    </tr>\n",
       "    <tr>\n",
       "      <th>1</th>\n",
       "      <td>168.9</td>\n",
       "      <td>42.2</td>\n",
       "      <td>124.3</td>\n",
       "      <td>158.3</td>\n",
       "      <td>10.8</td>\n",
       "      <td>1080.8</td>\n",
       "      <td>796.2</td>\n",
       "      <td>14</td>\n",
       "      <td>23.51</td>\n",
       "    </tr>\n",
       "    <tr>\n",
       "      <th>2</th>\n",
       "      <td>250.0</td>\n",
       "      <td>0.0</td>\n",
       "      <td>95.7</td>\n",
       "      <td>187.4</td>\n",
       "      <td>5.5</td>\n",
       "      <td>956.9</td>\n",
       "      <td>861.2</td>\n",
       "      <td>28</td>\n",
       "      <td>29.22</td>\n",
       "    </tr>\n",
       "    <tr>\n",
       "      <th>3</th>\n",
       "      <td>266.0</td>\n",
       "      <td>114.0</td>\n",
       "      <td>0.0</td>\n",
       "      <td>228.0</td>\n",
       "      <td>0.0</td>\n",
       "      <td>932.0</td>\n",
       "      <td>670.0</td>\n",
       "      <td>28</td>\n",
       "      <td>45.85</td>\n",
       "    </tr>\n",
       "    <tr>\n",
       "      <th>4</th>\n",
       "      <td>154.8</td>\n",
       "      <td>183.4</td>\n",
       "      <td>0.0</td>\n",
       "      <td>193.3</td>\n",
       "      <td>9.1</td>\n",
       "      <td>1047.4</td>\n",
       "      <td>696.7</td>\n",
       "      <td>28</td>\n",
       "      <td>18.29</td>\n",
       "    </tr>\n",
       "    <tr>\n",
       "      <th>5</th>\n",
       "      <td>255.0</td>\n",
       "      <td>0.0</td>\n",
       "      <td>0.0</td>\n",
       "      <td>192.0</td>\n",
       "      <td>0.0</td>\n",
       "      <td>889.8</td>\n",
       "      <td>945.0</td>\n",
       "      <td>90</td>\n",
       "      <td>21.86</td>\n",
       "    </tr>\n",
       "    <tr>\n",
       "      <th>6</th>\n",
       "      <td>166.8</td>\n",
       "      <td>250.2</td>\n",
       "      <td>0.0</td>\n",
       "      <td>203.5</td>\n",
       "      <td>0.0</td>\n",
       "      <td>975.6</td>\n",
       "      <td>692.6</td>\n",
       "      <td>7</td>\n",
       "      <td>15.75</td>\n",
       "    </tr>\n",
       "    <tr>\n",
       "      <th>7</th>\n",
       "      <td>251.4</td>\n",
       "      <td>0.0</td>\n",
       "      <td>118.3</td>\n",
       "      <td>188.5</td>\n",
       "      <td>6.4</td>\n",
       "      <td>1028.4</td>\n",
       "      <td>757.7</td>\n",
       "      <td>56</td>\n",
       "      <td>36.64</td>\n",
       "    </tr>\n",
       "    <tr>\n",
       "      <th>8</th>\n",
       "      <td>296.0</td>\n",
       "      <td>0.0</td>\n",
       "      <td>0.0</td>\n",
       "      <td>192.0</td>\n",
       "      <td>0.0</td>\n",
       "      <td>1085.0</td>\n",
       "      <td>765.0</td>\n",
       "      <td>28</td>\n",
       "      <td>21.65</td>\n",
       "    </tr>\n",
       "    <tr>\n",
       "      <th>9</th>\n",
       "      <td>155.0</td>\n",
       "      <td>184.0</td>\n",
       "      <td>143.0</td>\n",
       "      <td>194.0</td>\n",
       "      <td>9.0</td>\n",
       "      <td>880.0</td>\n",
       "      <td>699.0</td>\n",
       "      <td>28</td>\n",
       "      <td>28.99</td>\n",
       "    </tr>\n",
       "  </tbody>\n",
       "</table>\n",
       "</div>"
      ],
      "text/plain": [
       "   cement   slag    ash  water  superplastic  coarseagg  fineagg  age  \\\n",
       "0   141.3  212.0    0.0  203.5           0.0      971.8    748.5   28   \n",
       "1   168.9   42.2  124.3  158.3          10.8     1080.8    796.2   14   \n",
       "2   250.0    0.0   95.7  187.4           5.5      956.9    861.2   28   \n",
       "3   266.0  114.0    0.0  228.0           0.0      932.0    670.0   28   \n",
       "4   154.8  183.4    0.0  193.3           9.1     1047.4    696.7   28   \n",
       "5   255.0    0.0    0.0  192.0           0.0      889.8    945.0   90   \n",
       "6   166.8  250.2    0.0  203.5           0.0      975.6    692.6    7   \n",
       "7   251.4    0.0  118.3  188.5           6.4     1028.4    757.7   56   \n",
       "8   296.0    0.0    0.0  192.0           0.0     1085.0    765.0   28   \n",
       "9   155.0  184.0  143.0  194.0           9.0      880.0    699.0   28   \n",
       "\n",
       "   strength  \n",
       "0     29.89  \n",
       "1     23.51  \n",
       "2     29.22  \n",
       "3     45.85  \n",
       "4     18.29  \n",
       "5     21.86  \n",
       "6     15.75  \n",
       "7     36.64  \n",
       "8     21.65  \n",
       "9     28.99  "
      ]
     },
     "execution_count": 7,
     "metadata": {},
     "output_type": "execute_result"
    }
   ],
   "source": [
    "data = pd.read_csv(\"https://raw.githubusercontent.com/supasonicx/ATA-praktikum-01/main/concrete.csv\")\n",
    "data.head(10)"
   ]
  },
  {
   "cell_type": "markdown",
   "metadata": {
    "id": "AOziAH9UPXQ9"
   },
   "source": [
    "# 2. EDA"
   ]
  },
  {
   "cell_type": "markdown",
   "metadata": {
    "id": "56PSsAYXPXQ-"
   },
   "source": [
    "## 2.1.Univariate analysis\n",
    "<a id=\"2\"></a>"
   ]
  },
  {
   "cell_type": "markdown",
   "metadata": {
    "id": "S-9gtM46PXQ-"
   },
   "source": [
    "## 2.1.1 [Cement]"
   ]
  },
  {
   "cell_type": "markdown",
   "metadata": {
    "id": "iBNCh522PXQ-"
   },
   "source": [
    "### **i.\tDistribusi**"
   ]
  },
  {
   "cell_type": "code",
   "execution_count": null,
   "metadata": {
    "id": "wPj-eoNdPXQ-",
    "outputId": "c0fafa6b-9237-492c-cad3-b7d4610b6749",
    "scrolled": false
   },
   "outputs": [
    {
     "data": {
      "image/png": "[encoded data removed]",
      "text/plain": [
       "<Figure size 576x576 with 1 Axes>"
      ]
     },
     "metadata": {
      "needs_background": "light"
     },
     "output_type": "display_data"
    }
   ],
   "source": [
    "# Buat diagram di sini\n",
    "data['cement'].hist(figsize=(8,8))\n",
    "plt.show()"
   ]
  },
  {
   "cell_type": "markdown",
   "metadata": {
    "id": "ECfTDa3jPXQ_"
   },
   "source": [
    "### **ii.\tDeskripsi**"
   ]
  },
  {
   "cell_type": "markdown",
   "metadata": {
    "id": "9o6aMSCYPXQ_"
   },
   "source": [
    "Sehingga Atribut \"cement\" disini tidak simetris.\n",
    "Kemudian miring ke Kanan.\n",
    "Berat minimum & maksimum cement adalah 102 dan 502 K"
   ]
  },
  {
   "cell_type": "markdown",
   "metadata": {
    "id": "dG0NkhsDPXQ_"
   },
   "source": [
    "<a id=\"3\"></a>\n",
    "# 2.2.Bivariate analysis"
   ]
  },
  {
   "cell_type": "markdown",
   "metadata": {
    "id": "_Vem3YTBPXQ_"
   },
   "source": [
    "## 2.2.1 [Cement]"
   ]
  },
  {
   "cell_type": "markdown",
   "metadata": {
    "id": "ecitbFMLPXQ_"
   },
   "source": [
    "### i. **Boxplot**"
   ]
  },
  {
   "cell_type": "code",
   "execution_count": null,
   "metadata": {
    "id": "en9KkXgOPXRA",
    "outputId": "46b86746-c98d-461b-f648-96cf8db85768"
   },
   "outputs": [
    {
     "data": {
      "image/png": "[encoded data removed]",
      "text/plain": [
       "<Figure size 1440x720 with 1 Axes>"
      ]
     },
     "metadata": {
      "needs_background": "light"
     },
     "output_type": "display_data"
    }
   ],
   "source": [
    "# Buat diagram di sini\n",
    "data['cement_bins'] = pd.cut(data['cement'], bins=10)\n",
    "fig = plt.figure(figsize=(20,10))\n",
    "sns.boxplot(x=\"cement_bins\", y=\"strength\", data=data)\n",
    "plt.show()"
   ]
  },
  {
   "cell_type": "markdown",
   "metadata": {
    "id": "86HkmiL7PXRA"
   },
   "source": [
    "### ii. Deskripsi"
   ]
  },
  {
   "cell_type": "markdown",
   "metadata": {
    "id": "20mxmP8BPXRB"
   },
   "source": [
    "Berdasarkan grafik diatas, semakin banyak semen yang digunakan, metriks strength akan semakin tinggi.\n",
    "Strength paling kecil pada penggunaan semen 100 Kg hingga 145 Kg."
   ]
  },
  {
   "cell_type": "markdown",
   "metadata": {
    "id": "oG7xxaZrPXRB"
   },
   "source": [
    "### iii. Uji Hipotesis\n",
    "**Two sampled T-test** :-Uji Independent Samples t Test atau 2-sample t-test membandingkan rata-rata dua kelompok independen untuk menentukan apakah ada bukti statistik bahwa rata-rata populasi terkait berbeda secara signifikan.\n"
   ]
  },
  {
   "cell_type": "markdown",
   "metadata": {
    "id": "Cntf1lKtPXRB"
   },
   "source": [
    "Tentukan null dan alternate hypothesis.\n",
    "\n",
    "    Secara umum, null hypothesis akan menyatakan bahwa kedua populasi yang diuji tidak memiliki perbedaan yang signifikan secara statistik.\n",
    "    alternate hypothesis akan menyatakan bahwa ada perbedaan."
   ]
  },
  {
   "cell_type": "markdown",
   "metadata": {
    "id": "DGhIgnPrPXRB"
   },
   "source": [
    "Dalam contoh ini kita dapat mengatakan bahwa:\n",
    "*  Null Hypothesis :- tidak ada perbedaan Rerata usia kelompok pendapatan >50k dan kelompok pendapatan <=50k.\n",
    "*  Alternate Hypothesis :- ada perbedaan Rerata usia kelompok pendapatan >50k dan kelompok pendapatan <=50k."
   ]
  },
  {
   "cell_type": "code",
   "execution_count": null,
   "metadata": {
    "id": "MQ3uNEV2PXRB",
    "outputId": "addc5db4-0bbf-495f-9f3e-2513faa5453d"
   },
   "outputs": [
    {
     "name": "stdout",
     "output_type": "stream",
     "text": [
      "ttest 0.9038060092182845\n",
      "p value 0.3672010948299611\n",
      "Null Hipotesis Diterima\n"
     ]
    }
   ],
   "source": [
    "# Buat uji hipotesis untuk menentukan null atau alternate hypothesis\n",
    "import random\n",
    "from scipy.stats import ttest_ind\n",
    "\n",
    "cement_mean = data['cement'].mean()\n",
    "data = data[(np.abs(stats.zscore(data[\"strength\"])) < 3)]\n",
    "\n",
    "strength_1 = data[data['cement']<cement_mean]['age']\n",
    "strength_0 = data[data['cement']<cement_mean]['age']\n",
    "\n",
    "strength_0 = strength_0.values.tolist()\n",
    "strength_0 = random.sample(strength_0, 100)\n",
    "strength_1 = strength_1.values.tolist()\n",
    "strength_1 = random.sample(strength_1, 100)\n",
    "\n",
    "ttest,pval = ttest_ind(strength_1, strength_0, equal_var = False)\n",
    "print('ttest', ttest)\n",
    "print('p value', pval)\n",
    "\n",
    "if pval < 0.05:\n",
    "    print('Null Hipotesis Ditolak')\n",
    "else:\n",
    "    print('Null Hipotesis Diterima')"
   ]
  },
  {
   "cell_type": "markdown",
   "metadata": {
    "id": "2S7L8BuSPXRC"
   },
   "source": [
    "### iv. Kesimpulan akhir"
   ]
  },
  {
   "cell_type": "markdown",
   "metadata": {
    "id": "h-CTEqaRPXRC"
   },
   "source": [
    "Maka dengan adanya perbedaan yang signifikan pada sebuah kelompok semen yang memiliki berat dibawah rata-rata dan kelompok semen yang memiliki berat diatas rata-rata. program ini membuktikan bahwa berat semen yang digunakan dalam membangun beton memiliki peranan yang penting dalam kekuatan beton tersebut."
   ]
  }
 ],
 "metadata": {
  "colab": {
   "provenance": []
  },
  "kernelspec": {
   "display_name": "Python 3 (ipykernel)",
   "language": "python",
   "name": "python3"
  },
  "language_info": {
   "codemirror_mode": {
    "name": "ipython",
    "version": 3
   },
   "file_extension": ".py",
   "mimetype": "text/x-python",
   "name": "python",
   "nbconvert_exporter": "python",
   "pygments_lexer": "ipython3",
   "version": "3.9.13"
  }
 },
 "nbformat": 4,
 "nbformat_minor": 1
}
