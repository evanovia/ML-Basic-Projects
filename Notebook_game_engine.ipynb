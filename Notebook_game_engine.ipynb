{
  "nbformat": 4,
  "nbformat_minor": 0,
  "metadata": {
    "kernelspec": {
      "display_name": "Python 3",
      "language": "python",
      "name": "python3"
    },
    "language_info": {
      "codemirror_mode": {
        "name": "ipython",
        "version": 3
      },
      "file_extension": ".py",
      "mimetype": "text/x-python",
      "name": "python",
      "nbconvert_exporter": "python",
      "pygments_lexer": "ipython3",
      "version": "3.6.9"
    },
    "colab": {
      "provenance": []
    },
    "widgets": {
      "application/vnd.jupyter.widget-state+json": {
        "ad149d3e711743f2803266750feb11d4": {
          "model_module": "@jupyter-widgets/controls",
          "model_name": "HBoxModel",
          "state": {
            "_view_name": "HBoxView",
            "_dom_classes": [],
            "_model_name": "HBoxModel",
            "_view_module": "@jupyter-widgets/controls",
            "_model_module_version": "1.5.0",
            "_view_count": null,
            "_view_module_version": "1.5.0",
            "box_style": "",
            "layout": "IPY_MODEL_d4753a2b81c1405190bf4640fec70f85",
            "_model_module": "@jupyter-widgets/controls",
            "children": [
              "IPY_MODEL_1a24c2b46d894c0c98813db7307eb498",
              "IPY_MODEL_ada59ffde88942e08b5d3d87b183da2c"
            ]
          },
          "model_module_version": "1.5.0"
        },
        "d4753a2b81c1405190bf4640fec70f85": {
          "model_module": "@jupyter-widgets/base",
          "model_name": "LayoutModel",
          "state": {
            "_view_name": "LayoutView",
            "grid_template_rows": null,
            "right": null,
            "justify_content": null,
            "_view_module": "@jupyter-widgets/base",
            "overflow": null,
            "_model_module_version": "1.2.0",
            "_view_count": null,
            "flex_flow": null,
            "width": null,
            "min_width": null,
            "border": null,
            "align_items": null,
            "bottom": null,
            "_model_module": "@jupyter-widgets/base",
            "top": null,
            "grid_column": null,
            "overflow_y": null,
            "overflow_x": null,
            "grid_auto_flow": null,
            "grid_area": null,
            "grid_template_columns": null,
            "flex": null,
            "_model_name": "LayoutModel",
            "justify_items": null,
            "grid_row": null,
            "max_height": null,
            "align_content": null,
            "visibility": null,
            "align_self": null,
            "height": null,
            "min_height": null,
            "padding": null,
            "grid_auto_rows": null,
            "grid_gap": null,
            "max_width": null,
            "order": null,
            "_view_module_version": "1.2.0",
            "grid_template_areas": null,
            "object_position": null,
            "object_fit": null,
            "grid_auto_columns": null,
            "margin": null,
            "display": null,
            "left": null
          },
          "model_module_version": "1.2.0"
        },
        "1a24c2b46d894c0c98813db7307eb498": {
          "model_module": "@jupyter-widgets/controls",
          "model_name": "ButtonModel",
          "state": {
            "_view_name": "ButtonView",
            "style": "IPY_MODEL_0e3e128dde49402faf5027d2123dca92",
            "_dom_classes": [],
            "description": "0",
            "_model_name": "ButtonModel",
            "button_style": "",
            "_view_module": "@jupyter-widgets/controls",
            "_model_module_version": "1.5.0",
            "tooltip": "",
            "_view_count": null,
            "disabled": true,
            "_view_module_version": "1.5.0",
            "layout": "IPY_MODEL_47ddb8c18de64318825fa291a6e28fe3",
            "_model_module": "@jupyter-widgets/controls",
            "icon": ""
          },
          "model_module_version": "1.5.0"
        },
        "ada59ffde88942e08b5d3d87b183da2c": {
          "model_module": "@jupyter-widgets/controls",
          "model_name": "ButtonModel",
          "state": {
            "_view_name": "ButtonView",
            "style": "IPY_MODEL_fdd65652fe2a4f2b8f253729cb94f767",
            "_dom_classes": [],
            "description": "1",
            "_model_name": "ButtonModel",
            "button_style": "",
            "_view_module": "@jupyter-widgets/controls",
            "_model_module_version": "1.5.0",
            "tooltip": "",
            "_view_count": null,
            "disabled": true,
            "_view_module_version": "1.5.0",
            "layout": "IPY_MODEL_3262613fcdef4337ba45aac1391171e6",
            "_model_module": "@jupyter-widgets/controls",
            "icon": ""
          },
          "model_module_version": "1.5.0"
        },
        "0e3e128dde49402faf5027d2123dca92": {
          "model_module": "@jupyter-widgets/controls",
          "model_name": "ButtonStyleModel",
          "state": {
            "_view_name": "StyleView",
            "_model_name": "ButtonStyleModel",
            "_view_module": "@jupyter-widgets/base",
            "_model_module_version": "1.5.0",
            "_view_count": null,
            "button_color": null,
            "font_weight": "",
            "_view_module_version": "1.2.0",
            "_model_module": "@jupyter-widgets/controls"
          },
          "model_module_version": "1.5.0"
        },
        "47ddb8c18de64318825fa291a6e28fe3": {
          "model_module": "@jupyter-widgets/base",
          "model_name": "LayoutModel",
          "state": {
            "_view_name": "LayoutView",
            "grid_template_rows": null,
            "right": null,
            "justify_content": null,
            "_view_module": "@jupyter-widgets/base",
            "overflow": null,
            "_model_module_version": "1.2.0",
            "_view_count": null,
            "flex_flow": null,
            "width": null,
            "min_width": null,
            "border": null,
            "align_items": null,
            "bottom": null,
            "_model_module": "@jupyter-widgets/base",
            "top": null,
            "grid_column": null,
            "overflow_y": null,
            "overflow_x": null,
            "grid_auto_flow": null,
            "grid_area": null,
            "grid_template_columns": null,
            "flex": null,
            "_model_name": "LayoutModel",
            "justify_items": null,
            "grid_row": null,
            "max_height": null,
            "align_content": null,
            "visibility": null,
            "align_self": null,
            "height": null,
            "min_height": null,
            "padding": null,
            "grid_auto_rows": null,
            "grid_gap": null,
            "max_width": null,
            "order": null,
            "_view_module_version": "1.2.0",
            "grid_template_areas": null,
            "object_position": null,
            "object_fit": null,
            "grid_auto_columns": null,
            "margin": null,
            "display": null,
            "left": null
          },
          "model_module_version": "1.2.0"
        },
        "fdd65652fe2a4f2b8f253729cb94f767": {
          "model_module": "@jupyter-widgets/controls",
          "model_name": "ButtonStyleModel",
          "state": {
            "_view_name": "StyleView",
            "_model_name": "ButtonStyleModel",
            "_view_module": "@jupyter-widgets/base",
            "_model_module_version": "1.5.0",
            "_view_count": null,
            "button_color": null,
            "font_weight": "",
            "_view_module_version": "1.2.0",
            "_model_module": "@jupyter-widgets/controls"
          },
          "model_module_version": "1.5.0"
        },
        "3262613fcdef4337ba45aac1391171e6": {
          "model_module": "@jupyter-widgets/base",
          "model_name": "LayoutModel",
          "state": {
            "_view_name": "LayoutView",
            "grid_template_rows": null,
            "right": null,
            "justify_content": null,
            "_view_module": "@jupyter-widgets/base",
            "overflow": null,
            "_model_module_version": "1.2.0",
            "_view_count": null,
            "flex_flow": null,
            "width": null,
            "min_width": null,
            "border": null,
            "align_items": null,
            "bottom": null,
            "_model_module": "@jupyter-widgets/base",
            "top": null,
            "grid_column": null,
            "overflow_y": null,
            "overflow_x": null,
            "grid_auto_flow": null,
            "grid_area": null,
            "grid_template_columns": null,
            "flex": null,
            "_model_name": "LayoutModel",
            "justify_items": null,
            "grid_row": null,
            "max_height": null,
            "align_content": null,
            "visibility": null,
            "align_self": null,
            "height": null,
            "min_height": null,
            "padding": null,
            "grid_auto_rows": null,
            "grid_gap": null,
            "max_width": null,
            "order": null,
            "_view_module_version": "1.2.0",
            "grid_template_areas": null,
            "object_position": null,
            "object_fit": null,
            "grid_auto_columns": null,
            "margin": null,
            "display": null,
            "left": null
          },
          "model_module_version": "1.2.0"
        },
        "10f702f9d8a54726b71ba435318a484f": {
          "model_module": "@jupyter-widgets/controls",
          "model_name": "VBoxModel",
          "state": {
            "_view_name": "VBoxView",
            "_dom_classes": [],
            "_model_name": "VBoxModel",
            "_view_module": "@jupyter-widgets/controls",
            "_model_module_version": "1.5.0",
            "_view_count": null,
            "_view_module_version": "1.5.0",
            "box_style": "",
            "layout": "IPY_MODEL_188483773b844102b1305a96aa3f1f09",
            "_model_module": "@jupyter-widgets/controls",
            "children": [
              "IPY_MODEL_85b1b4baeeb24aa784714492cbded858",
              "IPY_MODEL_63496fc4dd454b948cea5836f7f949c0"
            ]
          },
          "model_module_version": "1.5.0"
        },
        "188483773b844102b1305a96aa3f1f09": {
          "model_module": "@jupyter-widgets/base",
          "model_name": "LayoutModel",
          "state": {
            "_view_name": "LayoutView",
            "grid_template_rows": null,
            "right": null,
            "justify_content": null,
            "_view_module": "@jupyter-widgets/base",
            "overflow": null,
            "_model_module_version": "1.2.0",
            "_view_count": null,
            "flex_flow": null,
            "width": null,
            "min_width": null,
            "border": null,
            "align_items": null,
            "bottom": null,
            "_model_module": "@jupyter-widgets/base",
            "top": null,
            "grid_column": null,
            "overflow_y": null,
            "overflow_x": null,
            "grid_auto_flow": null,
            "grid_area": null,
            "grid_template_columns": null,
            "flex": null,
            "_model_name": "LayoutModel",
            "justify_items": null,
            "grid_row": null,
            "max_height": null,
            "align_content": null,
            "visibility": null,
            "align_self": null,
            "height": null,
            "min_height": null,
            "padding": null,
            "grid_auto_rows": null,
            "grid_gap": null,
            "max_width": null,
            "order": null,
            "_view_module_version": "1.2.0",
            "grid_template_areas": null,
            "object_position": null,
            "object_fit": null,
            "grid_auto_columns": null,
            "margin": null,
            "display": null,
            "left": null
          },
          "model_module_version": "1.2.0"
        },
        "85b1b4baeeb24aa784714492cbded858": {
          "model_module": "@jupyter-widgets/controls",
          "model_name": "IntProgressModel",
          "state": {
            "_view_name": "ProgressView",
            "style": "IPY_MODEL_f3d6b706e2ad40e5af41f8cdca86bdbc",
            "_dom_classes": [],
            "description": "You:",
            "_model_name": "IntProgressModel",
            "bar_style": "success",
            "max": 30,
            "_view_module": "@jupyter-widgets/controls",
            "_model_module_version": "1.5.0",
            "value": 30,
            "_view_count": null,
            "_view_module_version": "1.5.0",
            "orientation": "horizontal",
            "min": 0,
            "description_tooltip": null,
            "_model_module": "@jupyter-widgets/controls",
            "layout": "IPY_MODEL_c0cb290e61674dbd9a6450cdd96ee968"
          },
          "model_module_version": "1.5.0"
        },
        "63496fc4dd454b948cea5836f7f949c0": {
          "model_module": "@jupyter-widgets/controls",
          "model_name": "IntProgressModel",
          "state": {
            "_view_name": "ProgressView",
            "style": "IPY_MODEL_6790a84dea5f4064b54924b425aa56b7",
            "_dom_classes": [],
            "description": "Bot:",
            "_model_name": "IntProgressModel",
            "bar_style": "danger",
            "max": 30,
            "_view_module": "@jupyter-widgets/controls",
            "_model_module_version": "1.5.0",
            "value": 24,
            "_view_count": null,
            "_view_module_version": "1.5.0",
            "orientation": "horizontal",
            "min": 0,
            "description_tooltip": null,
            "_model_module": "@jupyter-widgets/controls",
            "layout": "IPY_MODEL_71c9fb0204c64befa944b2e254be1b1e"
          },
          "model_module_version": "1.5.0"
        },
        "f3d6b706e2ad40e5af41f8cdca86bdbc": {
          "model_module": "@jupyter-widgets/controls",
          "model_name": "ProgressStyleModel",
          "state": {
            "_view_name": "StyleView",
            "_model_name": "ProgressStyleModel",
            "description_width": "",
            "_view_module": "@jupyter-widgets/base",
            "_model_module_version": "1.5.0",
            "_view_count": null,
            "_view_module_version": "1.2.0",
            "bar_color": null,
            "_model_module": "@jupyter-widgets/controls"
          },
          "model_module_version": "1.5.0"
        },
        "c0cb290e61674dbd9a6450cdd96ee968": {
          "model_module": "@jupyter-widgets/base",
          "model_name": "LayoutModel",
          "state": {
            "_view_name": "LayoutView",
            "grid_template_rows": null,
            "right": null,
            "justify_content": null,
            "_view_module": "@jupyter-widgets/base",
            "overflow": null,
            "_model_module_version": "1.2.0",
            "_view_count": null,
            "flex_flow": null,
            "width": null,
            "min_width": null,
            "border": null,
            "align_items": null,
            "bottom": null,
            "_model_module": "@jupyter-widgets/base",
            "top": null,
            "grid_column": null,
            "overflow_y": null,
            "overflow_x": null,
            "grid_auto_flow": null,
            "grid_area": null,
            "grid_template_columns": null,
            "flex": null,
            "_model_name": "LayoutModel",
            "justify_items": null,
            "grid_row": null,
            "max_height": null,
            "align_content": null,
            "visibility": null,
            "align_self": null,
            "height": null,
            "min_height": null,
            "padding": null,
            "grid_auto_rows": null,
            "grid_gap": null,
            "max_width": null,
            "order": null,
            "_view_module_version": "1.2.0",
            "grid_template_areas": null,
            "object_position": null,
            "object_fit": null,
            "grid_auto_columns": null,
            "margin": null,
            "display": null,
            "left": null
          },
          "model_module_version": "1.2.0"
        },
        "6790a84dea5f4064b54924b425aa56b7": {
          "model_module": "@jupyter-widgets/controls",
          "model_name": "ProgressStyleModel",
          "state": {
            "_view_name": "StyleView",
            "_model_name": "ProgressStyleModel",
            "description_width": "",
            "_view_module": "@jupyter-widgets/base",
            "_model_module_version": "1.5.0",
            "_view_count": null,
            "_view_module_version": "1.2.0",
            "bar_color": null,
            "_model_module": "@jupyter-widgets/controls"
          },
          "model_module_version": "1.5.0"
        },
        "71c9fb0204c64befa944b2e254be1b1e": {
          "model_module": "@jupyter-widgets/base",
          "model_name": "LayoutModel",
          "state": {
            "_view_name": "LayoutView",
            "grid_template_rows": null,
            "right": null,
            "justify_content": null,
            "_view_module": "@jupyter-widgets/base",
            "overflow": null,
            "_model_module_version": "1.2.0",
            "_view_count": null,
            "flex_flow": null,
            "width": null,
            "min_width": null,
            "border": null,
            "align_items": null,
            "bottom": null,
            "_model_module": "@jupyter-widgets/base",
            "top": null,
            "grid_column": null,
            "overflow_y": null,
            "overflow_x": null,
            "grid_auto_flow": null,
            "grid_area": null,
            "grid_template_columns": null,
            "flex": null,
            "_model_name": "LayoutModel",
            "justify_items": null,
            "grid_row": null,
            "max_height": null,
            "align_content": null,
            "visibility": null,
            "align_self": null,
            "height": null,
            "min_height": null,
            "padding": null,
            "grid_auto_rows": null,
            "grid_gap": null,
            "max_width": null,
            "order": null,
            "_view_module_version": "1.2.0",
            "grid_template_areas": null,
            "object_position": null,
            "object_fit": null,
            "grid_auto_columns": null,
            "margin": null,
            "display": null,
            "left": null
          },
          "model_module_version": "1.2.0"
        },
        "fa0b483e54b3401aa4eb3bc0a63b2b50": {
          "model_module": "@jupyter-widgets/controls",
          "model_name": "HTMLModel",
          "state": {
            "_view_name": "HTMLView",
            "style": "IPY_MODEL_4f63b52f464847f3acd2a56563aab39e",
            "_dom_classes": [],
            "description": "",
            "_model_name": "HTMLModel",
            "placeholder": "​",
            "_view_module": "@jupyter-widgets/controls",
            "_model_module_version": "1.5.0",
            "value": "<h1 style='color:green'> You Win!</h1>",
            "_view_count": null,
            "_view_module_version": "1.5.0",
            "description_tooltip": null,
            "_model_module": "@jupyter-widgets/controls",
            "layout": "IPY_MODEL_d37de55b0dd0421ca80b1792f00524fc"
          },
          "model_module_version": "1.5.0"
        },
        "4f63b52f464847f3acd2a56563aab39e": {
          "model_module": "@jupyter-widgets/controls",
          "model_name": "DescriptionStyleModel",
          "state": {
            "_view_name": "StyleView",
            "_model_name": "DescriptionStyleModel",
            "description_width": "",
            "_view_module": "@jupyter-widgets/base",
            "_model_module_version": "1.5.0",
            "_view_count": null,
            "_view_module_version": "1.2.0",
            "_model_module": "@jupyter-widgets/controls"
          },
          "model_module_version": "1.5.0"
        },
        "d37de55b0dd0421ca80b1792f00524fc": {
          "model_module": "@jupyter-widgets/base",
          "model_name": "LayoutModel",
          "state": {
            "_view_name": "LayoutView",
            "grid_template_rows": null,
            "right": null,
            "justify_content": null,
            "_view_module": "@jupyter-widgets/base",
            "overflow": null,
            "_model_module_version": "1.2.0",
            "_view_count": null,
            "flex_flow": null,
            "width": null,
            "min_width": null,
            "border": null,
            "align_items": null,
            "bottom": null,
            "_model_module": "@jupyter-widgets/base",
            "top": null,
            "grid_column": null,
            "overflow_y": null,
            "overflow_x": null,
            "grid_auto_flow": null,
            "grid_area": null,
            "grid_template_columns": null,
            "flex": null,
            "_model_name": "LayoutModel",
            "justify_items": null,
            "grid_row": null,
            "max_height": null,
            "align_content": null,
            "visibility": "hidden",
            "align_self": null,
            "height": null,
            "min_height": null,
            "padding": null,
            "grid_auto_rows": null,
            "grid_gap": null,
            "max_width": null,
            "order": null,
            "_view_module_version": "1.2.0",
            "grid_template_areas": null,
            "object_position": null,
            "object_fit": null,
            "grid_auto_columns": null,
            "margin": null,
            "display": null,
            "left": null
          },
          "model_module_version": "1.2.0"
        },
        "0c8d83e773fc4243a02d94de12008183": {
          "model_module": "@jupyter-widgets/controls",
          "model_name": "VBoxModel",
          "state": {
            "_view_name": "VBoxView",
            "_dom_classes": [],
            "_model_name": "VBoxModel",
            "_view_module": "@jupyter-widgets/controls",
            "_model_module_version": "1.5.0",
            "_view_count": null,
            "_view_module_version": "1.5.0",
            "box_style": "",
            "layout": "IPY_MODEL_1eee55bcd6c0473b899d4d42c446210d",
            "_model_module": "@jupyter-widgets/controls",
            "children": [
              "IPY_MODEL_fa584e884bf64100ab656431544dedf5",
              "IPY_MODEL_ad149d3e711743f2803266750feb11d4"
            ]
          },
          "model_module_version": "1.5.0"
        },
        "1eee55bcd6c0473b899d4d42c446210d": {
          "model_module": "@jupyter-widgets/base",
          "model_name": "LayoutModel",
          "state": {
            "_view_name": "LayoutView",
            "grid_template_rows": null,
            "right": null,
            "justify_content": null,
            "_view_module": "@jupyter-widgets/base",
            "overflow": null,
            "_model_module_version": "1.2.0",
            "_view_count": null,
            "flex_flow": null,
            "width": null,
            "min_width": null,
            "border": null,
            "align_items": null,
            "bottom": null,
            "_model_module": "@jupyter-widgets/base",
            "top": null,
            "grid_column": null,
            "overflow_y": null,
            "overflow_x": null,
            "grid_auto_flow": null,
            "grid_area": null,
            "grid_template_columns": null,
            "flex": null,
            "_model_name": "LayoutModel",
            "justify_items": null,
            "grid_row": null,
            "max_height": null,
            "align_content": null,
            "visibility": null,
            "align_self": null,
            "height": null,
            "min_height": null,
            "padding": null,
            "grid_auto_rows": null,
            "grid_gap": null,
            "max_width": null,
            "order": null,
            "_view_module_version": "1.2.0",
            "grid_template_areas": null,
            "object_position": null,
            "object_fit": null,
            "grid_auto_columns": null,
            "margin": null,
            "display": null,
            "left": null
          },
          "model_module_version": "1.2.0"
        },
        "fa584e884bf64100ab656431544dedf5": {
          "model_module": "@jupyter-widgets/controls",
          "model_name": "HBoxModel",
          "state": {
            "_view_name": "HBoxView",
            "_dom_classes": [],
            "_model_name": "HBoxModel",
            "_view_module": "@jupyter-widgets/controls",
            "_model_module_version": "1.5.0",
            "_view_count": null,
            "_view_module_version": "1.5.0",
            "box_style": "",
            "layout": "IPY_MODEL_fc709d57a03b44249aad0f73c012221d",
            "_model_module": "@jupyter-widgets/controls",
            "children": [
              "IPY_MODEL_10f702f9d8a54726b71ba435318a484f",
              "IPY_MODEL_fa0b483e54b3401aa4eb3bc0a63b2b50"
            ]
          },
          "model_module_version": "1.5.0"
        },
        "fc709d57a03b44249aad0f73c012221d": {
          "model_module": "@jupyter-widgets/base",
          "model_name": "LayoutModel",
          "state": {
            "_view_name": "LayoutView",
            "grid_template_rows": null,
            "right": null,
            "justify_content": null,
            "_view_module": "@jupyter-widgets/base",
            "overflow": null,
            "_model_module_version": "1.2.0",
            "_view_count": null,
            "flex_flow": null,
            "width": null,
            "min_width": null,
            "border": null,
            "align_items": null,
            "bottom": null,
            "_model_module": "@jupyter-widgets/base",
            "top": null,
            "grid_column": null,
            "overflow_y": null,
            "overflow_x": null,
            "grid_auto_flow": null,
            "grid_area": null,
            "grid_template_columns": null,
            "flex": null,
            "_model_name": "LayoutModel",
            "justify_items": null,
            "grid_row": null,
            "max_height": null,
            "align_content": null,
            "visibility": null,
            "align_self": null,
            "height": null,
            "min_height": null,
            "padding": null,
            "grid_auto_rows": null,
            "grid_gap": null,
            "max_width": null,
            "order": null,
            "_view_module_version": "1.2.0",
            "grid_template_areas": null,
            "object_position": null,
            "object_fit": null,
            "grid_auto_columns": null,
            "margin": null,
            "display": null,
            "left": null
          },
          "model_module_version": "1.2.0"
        }
      }
    }
  },
  "cells": [
    {
      "cell_type": "markdown",
      "metadata": {
        "id": "_UthEz09imdq"
      },
      "source": [
        "# Source code Game Mind Reader"
      ]
    },
    {
      "cell_type": "markdown",
      "metadata": {
        "id": "kBNt2Ow-imd2"
      },
      "source": [
        "## 1. Penjelasan dan Ide Game\n",
        "**Mind Reader** adalah game sejenis dengan <span style='color:blue'>batu-gunting-kertas</span> melawan <span style='color:red'>komputer</span>. <span style='color:green'>Anda</span> dapat memilih angka **1 atau 0**. Kemudian <span style='color:red'>komputer</span> akan menebak pilihan <span style='color:green'>Anda</span> menggunakan **machine learning**. Jika <span style='color:red'>komputer</span> benar maka ia mendapat poin, kebalikannya maka <span style='color:green'>Anda</span> mendapat poin. Yang pertama mencapai **10 poin** menang!"
      ]
    },
    {
      "cell_type": "markdown",
      "metadata": {
        "id": "B_BSUwhUimd5"
      },
      "source": [
        "## 2. Import tools\n",
        "import tools yang akan kita pakai untuk membuat game ini"
      ]
    },
    {
      "cell_type": "code",
      "metadata": {
        "id": "_Lk7tP4aimd6"
      },
      "source": [
        "from ipywidgets import *\n",
        "import numpy as np"
      ],
      "execution_count": null,
      "outputs": []
    },
    {
      "cell_type": "markdown",
      "metadata": {
        "id": "ZwBheKLCimd-"
      },
      "source": [
        "## 3. Membuat Tombol\n",
        "Tombol ini digunakan untuk menentukan pilihan pengguna"
      ]
    },
    {
      "cell_type": "code",
      "metadata": {
        "colab": {
          "base_uri": "https://localhost:8080/",
          "height": 49,
          "referenced_widgets": [
            "ad149d3e711743f2803266750feb11d4",
            "d4753a2b81c1405190bf4640fec70f85",
            "1a24c2b46d894c0c98813db7307eb498",
            "ada59ffde88942e08b5d3d87b183da2c",
            "0e3e128dde49402faf5027d2123dca92",
            "47ddb8c18de64318825fa291a6e28fe3",
            "fdd65652fe2a4f2b8f253729cb94f767",
            "3262613fcdef4337ba45aac1391171e6"
          ]
        },
        "id": "xM3Lnc_Timd_",
        "outputId": "bd578106-1edf-4e95-ad3d-cee2729c9dc9"
      },
      "source": [
        "btn_zero = Button( description='0' )\n",
        "btn_one = Button( description='1' )\n",
        "btns = HBox( [btn_zero, btn_one] )\n",
        "btns"
      ],
      "execution_count": null,
      "outputs": [
        {
          "output_type": "display_data",
          "data": {
            "application/vnd.jupyter.widget-view+json": {
              "model_id": "ad149d3e711743f2803266750feb11d4",
              "version_minor": 0,
              "version_major": 2
            },
            "text/plain": [
              "HBox(children=(Button(description='0', style=ButtonStyle()), Button(description='1', style=ButtonStyle())))"
            ]
          },
          "metadata": {
            "tags": []
          }
        }
      ]
    },
    {
      "cell_type": "markdown",
      "metadata": {
        "id": "99aOrVv9imeD"
      },
      "source": [
        "# 4. Scoreboard\n",
        "Kita menggunakan dua progress bar untuk menunjukkan scoreboard"
      ]
    },
    {
      "cell_type": "code",
      "metadata": {
        "colab": {
          "base_uri": "https://localhost:8080/",
          "height": 81,
          "referenced_widgets": [
            "10f702f9d8a54726b71ba435318a484f",
            "188483773b844102b1305a96aa3f1f09",
            "85b1b4baeeb24aa784714492cbded858",
            "63496fc4dd454b948cea5836f7f949c0",
            "f3d6b706e2ad40e5af41f8cdca86bdbc",
            "c0cb290e61674dbd9a6450cdd96ee968",
            "6790a84dea5f4064b54924b425aa56b7",
            "71c9fb0204c64befa944b2e254be1b1e"
          ]
        },
        "id": "VDA_N7OYimeD",
        "outputId": "593ad3bd-1cec-49aa-c058-d41ad6f3cde4"
      },
      "source": [
        "usr_score = IntProgress( value=0, min=0, max=30, description='You:', bar_style='success')\n",
        "bot_score = IntProgress( value=0, min=0, max=30, description='Bot:', bar_style='danger')\n",
        "scoreboard = VBox( [usr_score, bot_score])\n",
        "scoreboard"
      ],
      "execution_count": null,
      "outputs": [
        {
          "output_type": "display_data",
          "data": {
            "application/vnd.jupyter.widget-view+json": {
              "model_id": "10f702f9d8a54726b71ba435318a484f",
              "version_minor": 0,
              "version_major": 2
            },
            "text/plain": [
              "VBox(children=(IntProgress(value=0, bar_style='success', description='You:', max=30), IntProgress(value=0, bar…"
            ]
          },
          "metadata": {
            "tags": []
          }
        }
      ]
    },
    {
      "cell_type": "markdown",
      "metadata": {
        "id": "g8BLs4HvimeE"
      },
      "source": [
        "# 5. Pesan Game Over\n",
        "Di akhir permainan, bergantung dari anda kalah atau menang kita akan mencetak *\"You Win\"* atau *\"You Loose!\"*"
      ]
    },
    {
      "cell_type": "code",
      "metadata": {
        "colab": {
          "base_uri": "https://localhost:8080/",
          "height": 71,
          "referenced_widgets": [
            "fa0b483e54b3401aa4eb3bc0a63b2b50",
            "4f63b52f464847f3acd2a56563aab39e",
            "d37de55b0dd0421ca80b1792f00524fc"
          ]
        },
        "id": "UbX9Yt52imeG",
        "outputId": "9b2ecac3-e1e6-448d-a114-c93bb418fbe8"
      },
      "source": [
        "final_msg = HTML(\"<h1 style='color:green'> You Win!</h1>\")\n",
        "final_msg"
      ],
      "execution_count": null,
      "outputs": [
        {
          "output_type": "display_data",
          "data": {
            "application/vnd.jupyter.widget-view+json": {
              "model_id": "fa0b483e54b3401aa4eb3bc0a63b2b50",
              "version_minor": 0,
              "version_major": 2
            },
            "text/plain": [
              "HTML(value=\"<h1 style='color:green'> You Win!</h1>\")"
            ]
          },
          "metadata": {
            "tags": []
          }
        }
      ]
    },
    {
      "cell_type": "markdown",
      "metadata": {
        "id": "KukzHFAAimeG"
      },
      "source": [
        "# 6. Game Box\n",
        "Sekarang kita akan menyatukan semua widgets di dalam sebuah kotak bernama game_box"
      ]
    },
    {
      "cell_type": "code",
      "metadata": {
        "colab": {
          "base_uri": "https://localhost:8080/",
          "height": 113,
          "referenced_widgets": [
            "0c8d83e773fc4243a02d94de12008183",
            "1eee55bcd6c0473b899d4d42c446210d",
            "fa584e884bf64100ab656431544dedf5",
            "ad149d3e711743f2803266750feb11d4",
            "fc709d57a03b44249aad0f73c012221d",
            "10f702f9d8a54726b71ba435318a484f",
            "fa0b483e54b3401aa4eb3bc0a63b2b50",
            "d4753a2b81c1405190bf4640fec70f85",
            "1a24c2b46d894c0c98813db7307eb498",
            "ada59ffde88942e08b5d3d87b183da2c",
            "188483773b844102b1305a96aa3f1f09",
            "85b1b4baeeb24aa784714492cbded858",
            "63496fc4dd454b948cea5836f7f949c0",
            "4f63b52f464847f3acd2a56563aab39e",
            "d37de55b0dd0421ca80b1792f00524fc",
            "0e3e128dde49402faf5027d2123dca92",
            "47ddb8c18de64318825fa291a6e28fe3",
            "fdd65652fe2a4f2b8f253729cb94f767",
            "3262613fcdef4337ba45aac1391171e6",
            "f3d6b706e2ad40e5af41f8cdca86bdbc",
            "c0cb290e61674dbd9a6450cdd96ee968",
            "6790a84dea5f4064b54924b425aa56b7",
            "71c9fb0204c64befa944b2e254be1b1e"
          ]
        },
        "id": "oaTThNGximeH",
        "outputId": "c1dc9a8f-daa2-44b3-aa52-6d9a7b2b12fe"
      },
      "source": [
        "game_box = VBox([   HBox( [scoreboard, final_msg] ),\n",
        "                    btns\n",
        "                ])\n",
        "game_box"
      ],
      "execution_count": null,
      "outputs": [
        {
          "output_type": "display_data",
          "data": {
            "application/vnd.jupyter.widget-view+json": {
              "model_id": "0c8d83e773fc4243a02d94de12008183",
              "version_minor": 0,
              "version_major": 2
            },
            "text/plain": [
              "VBox(children=(HBox(children=(VBox(children=(IntProgress(value=0, bar_style='success', description='You:', max…"
            ]
          },
          "metadata": {
            "tags": []
          }
        }
      ]
    },
    {
      "cell_type": "code",
      "metadata": {
        "id": "ZN7WvQ9gimeI"
      },
      "source": [
        "final_msg.layout.visibility = 'hidden'"
      ],
      "execution_count": null,
      "outputs": []
    },
    {
      "cell_type": "markdown",
      "metadata": {
        "id": "z9gRb-t4imeI"
      },
      "source": [
        "# 7. Function : Update Game\n",
        "Di sini kita akan membuat sebuah fungsi untuk melakukan update setelah setiap kali kita memilih angka. Yang akan dilakukan adalah :\n",
        "1. Komputer akan menebak angka yang kita pilih dari riwayat pilihan kita sebelumnya\n",
        "2. Menambahkan 1 pada score komputer jika menebak angka anda dengan tepat, dan menambahkan 1 pada score anda jika tebakannya salah\n",
        "3. Stop permainan saat salah satu sudah menang"
      ]
    },
    {
      "cell_type": "code",
      "metadata": {
        "id": "cDc081v2imeJ"
      },
      "source": [
        "def click_zero(b):\n",
        "    update_game(0)\n",
        "btn_zero.on_click( click_zero )"
      ],
      "execution_count": null,
      "outputs": []
    },
    {
      "cell_type": "code",
      "metadata": {
        "id": "hu5z0-OPimeJ"
      },
      "source": [
        "def click_one(b):\n",
        "    update_game(1)\n",
        "btn_one.on_click( click_one )"
      ],
      "execution_count": null,
      "outputs": []
    },
    {
      "cell_type": "code",
      "metadata": {
        "id": "gBlyd4QyimeK"
      },
      "source": [
        "def update_game( usr_choice ):\n",
        "    prob = sum( usr_history ) / len( usr_history )\n",
        "    comp_choice = np.random.binomial(1, prob, 1)[0]\n",
        "    usr_history.append( usr_choice )\n",
        "\n",
        "    if comp_choice == usr_choice:\n",
        "        bot_score.value += 1\n",
        "    else:\n",
        "        usr_score.value += 1\n",
        "\n",
        "    if usr_score.value == 30 or bot_score.value == 30:\n",
        "        if bot_score.value == 30:\n",
        "            final_msg.value = \"<h1 style='color:red'> You Loose!</h1>\"\n",
        "        final_msg.layout.visibility = \"visible\"\n",
        "        btn_zero.disabled = True\n",
        "        btn_one.disabled = True\n",
        "\n",
        "    return"
      ],
      "execution_count": null,
      "outputs": []
    },
    {
      "cell_type": "code",
      "metadata": {
        "id": "7EiPWeWdimeK"
      },
      "source": [
        "usr_history = []"
      ],
      "execution_count": null,
      "outputs": []
    },
    {
      "cell_type": "code",
      "metadata": {
        "id": "GrDAMz0HimeL"
      },
      "source": [
        "usr_history.append(1)"
      ],
      "execution_count": null,
      "outputs": []
    },
    {
      "cell_type": "code",
      "metadata": {
        "id": "QowWm9pQimeL"
      },
      "source": [
        "usr_history.append(0)"
      ],
      "execution_count": null,
      "outputs": []
    },
    {
      "cell_type": "code",
      "metadata": {
        "colab": {
          "base_uri": "https://localhost:8080/"
        },
        "id": "9ay0r-WbimeL",
        "outputId": "1cb2d2aa-f033-4f41-bb41-23e9fda62af3"
      },
      "source": [
        "usr_history"
      ],
      "execution_count": null,
      "outputs": [
        {
          "output_type": "execute_result",
          "data": {
            "text/plain": [
              "[1, 0]"
            ]
          },
          "metadata": {
            "tags": []
          },
          "execution_count": 15
        }
      ]
    },
    {
      "cell_type": "code",
      "metadata": {
        "colab": {
          "base_uri": "https://localhost:8080/"
        },
        "id": "nHR6YqHEimeN",
        "outputId": "0a9521d4-51ab-4fb2-95e0-c9aa0d0c8346"
      },
      "source": [
        "sum( usr_history )"
      ],
      "execution_count": null,
      "outputs": [
        {
          "output_type": "execute_result",
          "data": {
            "text/plain": [
              "1"
            ]
          },
          "metadata": {
            "tags": []
          },
          "execution_count": 16
        }
      ]
    },
    {
      "cell_type": "code",
      "metadata": {
        "colab": {
          "base_uri": "https://localhost:8080/"
        },
        "id": "7miP96NRimeO",
        "outputId": "30b69983-54a6-47e3-8572-0f582c163451"
      },
      "source": [
        "len( usr_history )"
      ],
      "execution_count": null,
      "outputs": [
        {
          "output_type": "execute_result",
          "data": {
            "text/plain": [
              "2"
            ]
          },
          "metadata": {
            "tags": []
          },
          "execution_count": 17
        }
      ]
    },
    {
      "cell_type": "code",
      "metadata": {
        "colab": {
          "base_uri": "https://localhost:8080/"
        },
        "id": "J8grNSYEimeP",
        "outputId": "37742f62-034c-48e8-d83c-f3d475e270d0"
      },
      "source": [
        "prob = sum( usr_history ) / len( usr_history)\n",
        "prob"
      ],
      "execution_count": null,
      "outputs": [
        {
          "output_type": "execute_result",
          "data": {
            "text/plain": [
              "0.5"
            ]
          },
          "metadata": {
            "tags": []
          },
          "execution_count": 18
        }
      ]
    },
    {
      "cell_type": "code",
      "metadata": {
        "colab": {
          "base_uri": "https://localhost:8080/"
        },
        "id": "oAfAoWsyimeQ",
        "outputId": "0f5ab152-d487-4ac4-cbd1-0de48664c4f0"
      },
      "source": [
        "comp_choice = np.random.binomial(1, prob)\n",
        "comp_choice"
      ],
      "execution_count": null,
      "outputs": [
        {
          "output_type": "execute_result",
          "data": {
            "text/plain": [
              "0"
            ]
          },
          "metadata": {
            "tags": []
          },
          "execution_count": 19
        }
      ]
    },
    {
      "cell_type": "markdown",
      "metadata": {
        "id": "FrIsmPY3imeR"
      },
      "source": [
        "# 8. Play\n",
        "Agar game Mind Reader tampil di file lain"
      ]
    },
    {
      "cell_type": "code",
      "metadata": {
        "colab": {
          "base_uri": "https://localhost:8080/",
          "height": 113,
          "referenced_widgets": [
            "0c8d83e773fc4243a02d94de12008183",
            "1eee55bcd6c0473b899d4d42c446210d",
            "fa584e884bf64100ab656431544dedf5",
            "ad149d3e711743f2803266750feb11d4",
            "fc709d57a03b44249aad0f73c012221d",
            "10f702f9d8a54726b71ba435318a484f",
            "fa0b483e54b3401aa4eb3bc0a63b2b50",
            "d4753a2b81c1405190bf4640fec70f85",
            "1a24c2b46d894c0c98813db7307eb498",
            "ada59ffde88942e08b5d3d87b183da2c",
            "188483773b844102b1305a96aa3f1f09",
            "85b1b4baeeb24aa784714492cbded858",
            "63496fc4dd454b948cea5836f7f949c0",
            "4f63b52f464847f3acd2a56563aab39e",
            "d37de55b0dd0421ca80b1792f00524fc",
            "0e3e128dde49402faf5027d2123dca92",
            "47ddb8c18de64318825fa291a6e28fe3",
            "fdd65652fe2a4f2b8f253729cb94f767",
            "3262613fcdef4337ba45aac1391171e6",
            "f3d6b706e2ad40e5af41f8cdca86bdbc",
            "c0cb290e61674dbd9a6450cdd96ee968",
            "6790a84dea5f4064b54924b425aa56b7",
            "71c9fb0204c64befa944b2e254be1b1e"
          ]
        },
        "id": "C6RdSV1dimeS",
        "outputId": "54a285a0-66ea-40a0-ec08-f1b9602e202d"
      },
      "source": [
        "display( game_box )"
      ],
      "execution_count": null,
      "outputs": [
        {
          "output_type": "display_data",
          "data": {
            "application/vnd.jupyter.widget-view+json": {
              "model_id": "0c8d83e773fc4243a02d94de12008183",
              "version_minor": 0,
              "version_major": 2
            },
            "text/plain": [
              "VBox(children=(HBox(children=(VBox(children=(IntProgress(value=0, bar_style='success', description='You:', max…"
            ]
          },
          "metadata": {
            "tags": []
          }
        }
      ]
    },
    {
      "cell_type": "code",
      "metadata": {
        "id": "_14ex3ihimeT"
      },
      "source": [],
      "execution_count": null,
      "outputs": []
    }
  ]
}